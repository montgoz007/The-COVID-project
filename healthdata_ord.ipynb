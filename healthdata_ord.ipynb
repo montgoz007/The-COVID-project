{
 "cells": [
  {
   "cell_type": "markdown",
   "metadata": {},
   "source": [
    "# Healthdata.org EDA"
   ]
  },
  {
   "cell_type": "code",
   "execution_count": 1,
   "metadata": {},
   "outputs": [
    {
     "ename": "ModuleNotFoundError",
     "evalue": "No module named 'datatable'",
     "output_type": "error",
     "traceback": [
      "\u001b[1;31m---------------------------------------------------------------------------\u001b[0m",
      "\u001b[1;31mModuleNotFoundError\u001b[0m                       Traceback (most recent call last)",
      "\u001b[1;32m<ipython-input-1-8957f2ed053a>\u001b[0m in \u001b[0;36m<module>\u001b[1;34m\u001b[0m\n\u001b[0;32m      1\u001b[0m \u001b[1;32mimport\u001b[0m \u001b[0mpandas\u001b[0m \u001b[1;32mas\u001b[0m \u001b[0mpd\u001b[0m\u001b[1;33m\u001b[0m\u001b[1;33m\u001b[0m\u001b[0m\n\u001b[0;32m      2\u001b[0m \u001b[1;32mimport\u001b[0m \u001b[0mnumpy\u001b[0m \u001b[1;32mas\u001b[0m \u001b[0mnp\u001b[0m\u001b[1;33m\u001b[0m\u001b[1;33m\u001b[0m\u001b[0m\n\u001b[1;32m----> 3\u001b[1;33m \u001b[1;32mimport\u001b[0m \u001b[0mdatatable\u001b[0m \u001b[1;32mas\u001b[0m \u001b[0mdt\u001b[0m \u001b[1;31m# for handling large datasets\u001b[0m\u001b[1;33m\u001b[0m\u001b[1;33m\u001b[0m\u001b[0m\n\u001b[0m\u001b[0;32m      4\u001b[0m \u001b[1;32mimport\u001b[0m \u001b[0mrequests\u001b[0m \u001b[1;31m# For pulling web data\u001b[0m\u001b[1;33m\u001b[0m\u001b[1;33m\u001b[0m\u001b[0m\n\u001b[0;32m      5\u001b[0m \u001b[1;32mimport\u001b[0m \u001b[0mpyodbc\u001b[0m \u001b[1;31m#for SQL interations\u001b[0m\u001b[1;33m\u001b[0m\u001b[1;33m\u001b[0m\u001b[0m\n",
      "\u001b[1;31mModuleNotFoundError\u001b[0m: No module named 'datatable'"
     ]
    }
   ],
   "source": [
    "import pandas as pd \n",
    "import numpy as np\n",
    "import datatable as dt # for handling large datasets\n",
    "import requests # For pulling web data\n",
    "import pyodbc #for SQL interations"
   ]
  },
  {
   "cell_type": "code",
   "execution_count": 2,
   "metadata": {},
   "outputs": [],
   "source": [
    "dt_df = dt.fread('https://ihmecovid19storage.blob.core.windows.net/latest/data_download_file_worse_2021.csv')\n"
   ]
  },
  {
   "cell_type": "code",
   "execution_count": 4,
   "metadata": {},
   "outputs": [
    {
     "data": {
      "text/html": [
       "<div class='datatable'>\n",
       "  <table class='frame'>\n",
       "  <thead>\n",
       "    <tr class='colnames'><td class='row_index'></td><th>location_id</th><th>date</th><th>version_name</th><th>location_name</th><th>inf_mean</th><th>inf_upper</th><th>inf_lower</th><th>seir_cumulative_mean</th><th>seir_cumulative_lower</th><th>seir_cumulative_upper</th><th class='vellipsis'>&hellip;</th><th>all_bed_capacity</th><th>icu_bed_capacity</th><th>infection_fatality</th><th>infection_detection</th><th>infection_hospitalization</th></tr>\n",
       "    <tr class='coltypes'><td class='row_index'></td><td class='int' title='int32'>&#x25AA;&#x25AA;&#x25AA;&#x25AA;</td><td class='time' title='date32'>&#x25AA;&#x25AA;&#x25AA;&#x25AA;</td><td class='str' title='str32'>&#x25AA;&#x25AA;&#x25AA;&#x25AA;</td><td class='str' title='str32'>&#x25AA;&#x25AA;&#x25AA;&#x25AA;</td><td class='float' title='float64'>&#x25AA;&#x25AA;&#x25AA;&#x25AA;&#x25AA;&#x25AA;&#x25AA;&#x25AA;</td><td class='float' title='float64'>&#x25AA;&#x25AA;&#x25AA;&#x25AA;&#x25AA;&#x25AA;&#x25AA;&#x25AA;</td><td class='float' title='float64'>&#x25AA;&#x25AA;&#x25AA;&#x25AA;&#x25AA;&#x25AA;&#x25AA;&#x25AA;</td><td class='float' title='float64'>&#x25AA;&#x25AA;&#x25AA;&#x25AA;&#x25AA;&#x25AA;&#x25AA;&#x25AA;</td><td class='float' title='float64'>&#x25AA;&#x25AA;&#x25AA;&#x25AA;&#x25AA;&#x25AA;&#x25AA;&#x25AA;</td><td class='float' title='float64'>&#x25AA;&#x25AA;&#x25AA;&#x25AA;&#x25AA;&#x25AA;&#x25AA;&#x25AA;</td><td></td><td class='int' title='int32'>&#x25AA;&#x25AA;&#x25AA;&#x25AA;</td><td class='int' title='int32'>&#x25AA;&#x25AA;&#x25AA;&#x25AA;</td><td class='float' title='float64'>&#x25AA;&#x25AA;&#x25AA;&#x25AA;&#x25AA;&#x25AA;&#x25AA;&#x25AA;</td><td class='float' title='float64'>&#x25AA;&#x25AA;&#x25AA;&#x25AA;&#x25AA;&#x25AA;&#x25AA;&#x25AA;</td><td class='float' title='float64'>&#x25AA;&#x25AA;&#x25AA;&#x25AA;&#x25AA;&#x25AA;&#x25AA;&#x25AA;</td></tr>\n",
       "  </thead>\n",
       "  <tbody>\n",
       "    <tr><td class='row_index'>0</td><td>1</td><td>2021-01-01</td><td>worse</td><td>Global</td><td>5.82888e+06</td><td>6.89598e+06</td><td>5.12275e+06</td><td>4.26413e+06</td><td>3.09408e+06</td><td>6.15327e+06</td><td class=vellipsis>&hellip;</td><td>17518594</td><td>536960</td><td>0.0038</td><td>0.1054</td><td>0.0153</td></tr>\n",
       "    <tr><td class='row_index'>1</td><td>1</td><td>2021-01-02</td><td>worse</td><td>Global</td><td>5.78828e+06</td><td>6.85238e+06</td><td>5.08947e+06</td><td>4.28729e+06</td><td>3.11166e+06</td><td>6.18574e+06</td><td class=vellipsis>&hellip;</td><td>17518594</td><td>536960</td><td>0.0038</td><td>0.1085</td><td>0.0154</td></tr>\n",
       "    <tr><td class='row_index'>2</td><td>1</td><td>2021-01-03</td><td>worse</td><td>Global</td><td>5.74341e+06</td><td>6.77764e+06</td><td>5.05225e+06</td><td>4.31077e+06</td><td>3.12949e+06</td><td>6.2186e+06</td><td class=vellipsis>&hellip;</td><td>17518594</td><td>536960</td><td>0.0039</td><td>0.1117</td><td>0.0154</td></tr>\n",
       "    <tr><td class='row_index'>3</td><td>1</td><td>2021-01-04</td><td>worse</td><td>Global</td><td>5.69416e+06</td><td>6.69884e+06</td><td>4.99923e+06</td><td>4.33456e+06</td><td>3.14759e+06</td><td>6.25189e+06</td><td class=vellipsis>&hellip;</td><td>17518594</td><td>536960</td><td>0.0039</td><td>0.1148</td><td>0.0155</td></tr>\n",
       "    <tr><td class='row_index'>4</td><td>1</td><td>2021-01-05</td><td>worse</td><td>Global</td><td>5.64059e+06</td><td>6.61639e+06</td><td>4.94105e+06</td><td>4.35869e+06</td><td>3.16595e+06</td><td>6.28561e+06</td><td class=vellipsis>&hellip;</td><td>17518594</td><td>536960</td><td>0.004</td><td>0.1177</td><td>0.0155</td></tr>\n",
       "  </tbody>\n",
       "  </table>\n",
       "  <div class='footer'>\n",
       "    <div class='frame_dimensions'>5 rows &times; 60 columns</div>\n",
       "  </div>\n",
       "</div>\n"
      ],
      "text/plain": [
       "<Frame#1d86c134900 5x60>"
      ]
     },
     "execution_count": 4,
     "metadata": {},
     "output_type": "execute_result"
    }
   ],
   "source": [
    "dt_df.head(5)"
   ]
  },
  {
   "cell_type": "code",
   "execution_count": null,
   "metadata": {},
   "outputs": [],
   "source": [
    "# Connect to SQL Server\n",
    "conn = pyodbc.connect('Driver={SQL Server};'\n",
    "                      'Server=RON\\SQLEXPRESS;'\n",
    "                      'Database=test_database;'\n",
    "                      'Trusted_Connection=yes;')\n",
    "cursor = conn.cursor()"
   ]
  }
 ],
 "metadata": {
  "interpreter": {
   "hash": "6d529639a3043f15ea50218449268f84f9ab6e6d9f9b2bbc7e080e4513256e12"
  },
  "kernelspec": {
   "display_name": "Python 3.7.10 64-bit ('montVenv': conda)",
   "name": "python3"
  },
  "language_info": {
   "codemirror_mode": {
    "name": "ipython",
    "version": 3
   },
   "file_extension": ".py",
   "mimetype": "text/x-python",
   "name": "python",
   "nbconvert_exporter": "python",
   "pygments_lexer": "ipython3",
   "version": "3.7.10"
  },
  "orig_nbformat": 4
 },
 "nbformat": 4,
 "nbformat_minor": 2
}
